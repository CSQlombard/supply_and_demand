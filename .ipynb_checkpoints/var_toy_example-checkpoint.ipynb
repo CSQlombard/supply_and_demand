{
 "cells": [
  {
   "cell_type": "code",
   "execution_count": null,
   "id": "be026bd5",
   "metadata": {},
   "outputs": [],
   "source": [
    "### Toy example from https://www.statsmodels.org/dev/vector_ar.html"
   ]
  },
  {
   "cell_type": "code",
   "execution_count": 1,
   "id": "8e5c8777",
   "metadata": {},
   "outputs": [
    {
     "name": "stderr",
     "output_type": "stream",
     "text": [
      "C:\\Users\\celes\\anaconda3\\lib\\site-packages\\statsmodels\\tsa\\base\\tsa_model.py:471: ValueWarning: No frequency information was provided, so inferred frequency Q-DEC will be used.\n",
      "  self._init_dates(dates, freq)\n"
     ]
    }
   ],
   "source": [
    "# some example data\n",
    "In [1]: import numpy as np\n",
    "\n",
    "In [2]: import pandas\n",
    "\n",
    "In [3]: import statsmodels.api as sm\n",
    "\n",
    "In [4]: from statsmodels.tsa.api import VAR\n",
    "\n",
    "In [5]: mdata = sm.datasets.macrodata.load_pandas().data\n",
    "\n",
    "# prepare the dates index\n",
    "In [6]: dates = mdata[['year', 'quarter']].astype(int).astype(str)\n",
    "\n",
    "In [7]: quarterly = dates[\"year\"] + \"Q\" + dates[\"quarter\"]\n",
    "\n",
    "In [8]: from statsmodels.tsa.base.datetools import dates_from_str\n",
    "\n",
    "In [9]: quarterly = dates_from_str(quarterly)\n",
    "\n",
    "In [10]: mdata = mdata[['realgdp','realcons','realinv']]\n",
    "\n",
    "In [11]: mdata.index = pandas.DatetimeIndex(quarterly)\n",
    "\n",
    "In [12]: data = np.log(mdata).diff().dropna()\n",
    "\n",
    "# make a VAR model\n",
    "In [13]: model = VAR(data)"
   ]
  },
  {
   "cell_type": "code",
   "execution_count": 2,
   "id": "539e047e",
   "metadata": {},
   "outputs": [
    {
     "data": {
      "text/html": [
       "<div>\n",
       "<style scoped>\n",
       "    .dataframe tbody tr th:only-of-type {\n",
       "        vertical-align: middle;\n",
       "    }\n",
       "\n",
       "    .dataframe tbody tr th {\n",
       "        vertical-align: top;\n",
       "    }\n",
       "\n",
       "    .dataframe thead th {\n",
       "        text-align: right;\n",
       "    }\n",
       "</style>\n",
       "<table border=\"1\" class=\"dataframe\">\n",
       "  <thead>\n",
       "    <tr style=\"text-align: right;\">\n",
       "      <th></th>\n",
       "      <th>realgdp</th>\n",
       "      <th>realcons</th>\n",
       "      <th>realinv</th>\n",
       "    </tr>\n",
       "  </thead>\n",
       "  <tbody>\n",
       "    <tr>\n",
       "      <th>1959-06-30</th>\n",
       "      <td>0.024942</td>\n",
       "      <td>0.015286</td>\n",
       "      <td>0.080213</td>\n",
       "    </tr>\n",
       "    <tr>\n",
       "      <th>1959-09-30</th>\n",
       "      <td>-0.001193</td>\n",
       "      <td>0.010386</td>\n",
       "      <td>-0.072131</td>\n",
       "    </tr>\n",
       "    <tr>\n",
       "      <th>1959-12-31</th>\n",
       "      <td>0.003495</td>\n",
       "      <td>0.001084</td>\n",
       "      <td>0.034425</td>\n",
       "    </tr>\n",
       "    <tr>\n",
       "      <th>1960-03-31</th>\n",
       "      <td>0.022190</td>\n",
       "      <td>0.009534</td>\n",
       "      <td>0.102664</td>\n",
       "    </tr>\n",
       "    <tr>\n",
       "      <th>1960-06-30</th>\n",
       "      <td>-0.004685</td>\n",
       "      <td>0.012572</td>\n",
       "      <td>-0.106694</td>\n",
       "    </tr>\n",
       "    <tr>\n",
       "      <th>...</th>\n",
       "      <td>...</td>\n",
       "      <td>...</td>\n",
       "      <td>...</td>\n",
       "    </tr>\n",
       "    <tr>\n",
       "      <th>2008-09-30</th>\n",
       "      <td>-0.006781</td>\n",
       "      <td>-0.008948</td>\n",
       "      <td>-0.017836</td>\n",
       "    </tr>\n",
       "    <tr>\n",
       "      <th>2008-12-31</th>\n",
       "      <td>-0.013805</td>\n",
       "      <td>-0.007843</td>\n",
       "      <td>-0.069165</td>\n",
       "    </tr>\n",
       "    <tr>\n",
       "      <th>2009-03-31</th>\n",
       "      <td>-0.016612</td>\n",
       "      <td>0.001511</td>\n",
       "      <td>-0.175598</td>\n",
       "    </tr>\n",
       "    <tr>\n",
       "      <th>2009-06-30</th>\n",
       "      <td>-0.001851</td>\n",
       "      <td>-0.002196</td>\n",
       "      <td>-0.067561</td>\n",
       "    </tr>\n",
       "    <tr>\n",
       "      <th>2009-09-30</th>\n",
       "      <td>0.006862</td>\n",
       "      <td>0.007265</td>\n",
       "      <td>0.020197</td>\n",
       "    </tr>\n",
       "  </tbody>\n",
       "</table>\n",
       "<p>202 rows × 3 columns</p>\n",
       "</div>"
      ],
      "text/plain": [
       "             realgdp  realcons   realinv\n",
       "1959-06-30  0.024942  0.015286  0.080213\n",
       "1959-09-30 -0.001193  0.010386 -0.072131\n",
       "1959-12-31  0.003495  0.001084  0.034425\n",
       "1960-03-31  0.022190  0.009534  0.102664\n",
       "1960-06-30 -0.004685  0.012572 -0.106694\n",
       "...              ...       ...       ...\n",
       "2008-09-30 -0.006781 -0.008948 -0.017836\n",
       "2008-12-31 -0.013805 -0.007843 -0.069165\n",
       "2009-03-31 -0.016612  0.001511 -0.175598\n",
       "2009-06-30 -0.001851 -0.002196 -0.067561\n",
       "2009-09-30  0.006862  0.007265  0.020197\n",
       "\n",
       "[202 rows x 3 columns]"
      ]
     },
     "execution_count": 2,
     "metadata": {},
     "output_type": "execute_result"
    }
   ],
   "source": [
    "data"
   ]
  },
  {
   "cell_type": "code",
   "execution_count": null,
   "id": "4c4425ec",
   "metadata": {},
   "outputs": [],
   "source": []
  }
 ],
 "metadata": {
  "kernelspec": {
   "display_name": "Python 3 (ipykernel)",
   "language": "python",
   "name": "python3"
  },
  "language_info": {
   "codemirror_mode": {
    "name": "ipython",
    "version": 3
   },
   "file_extension": ".py",
   "mimetype": "text/x-python",
   "name": "python",
   "nbconvert_exporter": "python",
   "pygments_lexer": "ipython3",
   "version": "3.10.9"
  }
 },
 "nbformat": 4,
 "nbformat_minor": 5
}
