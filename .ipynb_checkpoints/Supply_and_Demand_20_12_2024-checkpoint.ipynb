{
 "cells": [
  {
   "cell_type": "code",
   "execution_count": null,
   "id": "1a3a845a",
   "metadata": {},
   "outputs": [],
   "source": [
    "### Author: Claudio S. Quiroga-Lombard"
   ]
  },
  {
   "cell_type": "code",
   "execution_count": null,
   "id": "c2046e1c",
   "metadata": {},
   "outputs": [],
   "source": [
    "\"\"\"\n",
    "Description:  There are two sides in a ride-hailing marketplace: riders (demand) and drivers (supply). \n",
    "One of the challenges that we aim to solve is efficient supply allocation, \n",
    "so riders can always get a ride and drivers have stable earnings. \n",
    "Knowledge about how demand changes over time and space is crucial to comprehend supply dynamics. \n",
    "\n",
    "Tasks: \n",
    "\n",
    "-Explore the data and suggest a solution to guide the drivers towards areas with higher expected demand at \n",
    "given time and location\n",
    "-Build and document a baseline model for your solution\n",
    "-Describe how you would design and deploy such a model\n",
    "-Describe how to communicate model recommendations to drivers\n",
    "-Think through and describe the design of the experiment  that would validate your solution for \n",
    "live operations taking into account marketplace specifics\n",
    "\n",
    "Data Description:\n",
    "\n",
    "The source data is approximately 630000 rows of synthetic ride demand data:\n",
    "\n",
    "start_time - time when the order was made\n",
    "start_lat - latitude of the order's pick-up point\n",
    "start_lng - longitude of the order's pick-up point\n",
    "end_lat - latitude of the order's destination point\n",
    "end_lng - longitude of the order's destination point\n",
    "ride_value - how much monetary value is in this particular ride\n",
    "\"\"\""
   ]
  }
 ],
 "metadata": {
  "kernelspec": {
   "display_name": "Python 3 (ipykernel)",
   "language": "python",
   "name": "python3"
  },
  "language_info": {
   "codemirror_mode": {
    "name": "ipython",
    "version": 3
   },
   "file_extension": ".py",
   "mimetype": "text/x-python",
   "name": "python",
   "nbconvert_exporter": "python",
   "pygments_lexer": "ipython3",
   "version": "3.10.9"
  }
 },
 "nbformat": 4,
 "nbformat_minor": 5
}
